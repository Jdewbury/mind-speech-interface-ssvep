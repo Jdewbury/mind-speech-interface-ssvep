{
  "nbformat": 4,
  "nbformat_minor": 0,
  "metadata": {
    "colab": {
      "name": "CCA_with_KNN_Model.ipynb",
      "provenance": [],
      "collapsed_sections": []
    },
    "kernelspec": {
      "name": "python3",
      "display_name": "Python 3"
    },
    "language_info": {
      "name": "python"
    }
  },
  "cells": [
    {
      "cell_type": "markdown",
      "metadata": {
        "id": "9VpACclgbBPw"
      },
      "source": [
        "# Detection of SSVEP using Canonical Correlation Analysis with K-Nearest Neighbours\n",
        "---\n",
        "\n",
        "\n",
        "\n"
      ]
    },
    {
      "cell_type": "markdown",
      "metadata": {
        "id": "hFB4guJTcbJe"
      },
      "source": [
        "**Sources**\n",
        "\n",
        "\n",
        "*   Study: https://www.ncbi.nlm.nih.gov/pmc/articles/PMC4610694/\n",
        "*   Dataset: https://github.com/mnakanishi/12JFPM_SSVEP/tree/master/data\n",
        "*   Standard CCA Implementation: https://github.com/aaravindravi/Brain-computer-interfaces/blob/master/notebooks/cca_12_class_ssvep.ipynb\n",
        "\n"
      ]
    },
    {
      "cell_type": "code",
      "metadata": {
        "colab": {
          "base_uri": "https://localhost:8080/"
        },
        "id": "KBUIBSbB7X3u",
        "outputId": "961b8c9b-e760-4d8e-aa7a-c864811c078e"
      },
      "source": [
        "!git clone https://github.com/aaravindravi/Brain-computer-interfaces/"
      ],
      "execution_count": null,
      "outputs": [
        {
          "output_type": "stream",
          "name": "stdout",
          "text": [
            "Cloning into 'Brain-computer-interfaces'...\n",
            "remote: Enumerating objects: 127, done.\u001b[K\n",
            "remote: Counting objects: 100% (45/45), done.\u001b[K\n",
            "remote: Compressing objects: 100% (34/34), done.\u001b[K\n",
            "remote: Total 127 (delta 21), reused 26 (delta 10), pack-reused 82\u001b[K\n",
            "Receiving objects: 100% (127/127), 146.36 MiB | 35.64 MiB/s, done.\n",
            "Resolving deltas: 100% (52/52), done.\n",
            "Checking out files: 100% (21/21), done.\n"
          ]
        }
      ]
    },
    {
      "cell_type": "markdown",
      "metadata": {
        "id": "jrK3Rs-dYfiY"
      },
      "source": [
        "Import Libraries"
      ]
    },
    {
      "cell_type": "code",
      "metadata": {
        "id": "gNN_Rnji7_Gu"
      },
      "source": [
        "!cp Brain-computer-interfaces/scripts/ssvep_utils.py ./\n"
      ],
      "execution_count": null,
      "outputs": []
    },
    {
      "cell_type": "code",
      "metadata": {
        "id": "BFU3JxCbnhWk"
      },
      "source": [
        "!cp -r ./Brain-computer-interfaces/data ./\n"
      ],
      "execution_count": null,
      "outputs": []
    },
    {
      "cell_type": "markdown",
      "metadata": {
        "id": "kB2W2dztUsq7"
      },
      "source": [
        "# CCA\n",
        "\n",
        "high-level description of cca"
      ]
    },
    {
      "cell_type": "code",
      "metadata": {
        "id": "91Xq5LjbdgGN"
      },
      "source": [
        "import sys\n",
        "import os\n",
        "import math\n",
        "import numpy as np\n",
        "import scipy.io as sio\n",
        "\n",
        "\n",
        "# Helper functions\n",
        "import ssvep_utils\n",
        "\n",
        "from sklearn.cross_decomposition import CCA\n",
        "from sklearn.metrics import confusion_matrix"
      ],
      "execution_count": null,
      "outputs": []
    },
    {
      "cell_type": "code",
      "metadata": {
        "id": "7nu4Jzdtaukr"
      },
      "source": [
        "all_segment_data = dict()\n",
        "all_acc = list()\n",
        "\n",
        "window_len = 1\n",
        "shift_len = 1\n",
        "sample_rate = 256\n",
        "duration = int(window_len*sample_rate)\n",
        "\n",
        "\n",
        "flicker_freq = np.array([9.25, 11.25, 13.25, 9.75, 11.75, 13.75, \n",
        "                       10.25, 12.25, 14.25, 10.75, 12.75, 14.75])"
      ],
      "execution_count": null,
      "outputs": []
    },
    {
      "cell_type": "markdown",
      "metadata": {
        "id": "zR1Szyp5jRnZ"
      },
      "source": [
        "Reference Signals Function\n"
      ]
    },
    {
      "cell_type": "code",
      "metadata": {
        "id": "lz4N_PvZjWKd"
      },
      "source": [
        "def get_reference_signals(data_len, target_freq, sampling_rate) :\n",
        "  \"\"\"\n",
        "  [description] - google python style guide\n",
        "  \"\"\"\n",
        "  reference_signals = []\n",
        "  t = np.arange(0, (data_len/(sampling_rate)), step=1.0/(sampling_rate))\n",
        "  reference_signals.append(np.sin(np.pi*2*target_freq*t))\n",
        "  reference_signals.append(np.cos(np.pi*2*target_freq*t))\n",
        "  reference_signals.append(np.sin(np.pi*4*target_freq*t))\n",
        "  reference_signals.append(np.cos(np.pi*4*target_freq*t))\n",
        "  reference_signals = np.array(reference_signals)\n",
        "\n",
        "  return reference_signals"
      ],
      "execution_count": null,
      "outputs": []
    },
    {
      "cell_type": "markdown",
      "metadata": {
        "id": "LbGrY2LVkZ8e"
      },
      "source": [
        "Correlation Calculation Function\n"
      ]
    },
    {
      "cell_type": "code",
      "metadata": {
        "id": "Xna1dTLqkW7K"
      },
      "source": [
        "def calculate_correlation(n_components, np_buffer, freq):\n",
        "    cca = CCA(n_components)\n",
        "    corr = np.zeros(n_components)\n",
        "    result = np.zeros(freq.shape[0])\n",
        "    for freq_idx in range(0,freq.shape[0]):\n",
        "        cca.fit(np_buffer.T,np.squeeze(freq[freq_idx, :, :]).T)\n",
        "        O1_a, O1_b = cca.transform(np_buffer.T, np.squeeze(freq[freq_idx, :, :]).T)\n",
        "        ind_val = 0\n",
        "        for ind_val in range(0,n_components):\n",
        "            corr[ind_val] = np.corrcoef(O1_a[: ,ind_val], O1_b[:, ind_val])[0 ,1]\n",
        "            result[freq_idx] = np.max(corr)\n",
        "    \n",
        "    return result"
      ],
      "execution_count": null,
      "outputs": []
    },
    {
      "cell_type": "markdown",
      "metadata": {
        "id": "3gil04LIl5dK"
      },
      "source": [
        "Data Classification Function"
      ]
    },
    {
      "cell_type": "code",
      "metadata": {
        "id": "Dz5VJxcUl-SV"
      },
      "source": [
        "def cca_classify(segmented_data, reference_templates):\n",
        "    predicted_class = []\n",
        "    all_coeffs = []\n",
        "    labels = []\n",
        "    for target in range(0, segmented_data.shape[0]):\n",
        "        for trial in range(0, segmented_data.shape[2]):\n",
        "            for segment in range(0, segmented_data.shape[3]):\n",
        "                labels.append(target)\n",
        "                result = calculate_correlation(1, segmented_data[target, :, trial, segment, :], reference_templates)\n",
        "                # print(result.shape)\n",
        "                all_coeffs.append(result)\n",
        "                predicted_class.append(np.argmax(result)+1)\n",
        "\n",
        "    labels = np.array(labels)+1\n",
        "    predicted_class = np.array(predicted_class)\n",
        "\n",
        "    return labels, predicted_class, all_coeffs"
      ],
      "execution_count": null,
      "outputs": []
    },
    {
      "cell_type": "markdown",
      "metadata": {
        "id": "HAUSZw_ZciQp"
      },
      "source": [
        "Import the Dataset"
      ]
    },
    {
      "cell_type": "code",
      "metadata": {
        "id": "xPA_l36Cck40"
      },
      "source": [
        "for subject in np.arange(0, 10):\n",
        "    dataset = sio.loadmat(f'data/s{subject+1}.mat')\n",
        "    eeg = np.array(dataset['eeg'], dtype='float32')\n",
        "    \n",
        "    # Dimensions\n",
        "    num_classes = eeg.shape[0]\n",
        "    num_channels = eeg.shape[1]\n",
        "    num_sampling_points = eeg.shape[2]\n",
        "    num_trials = eeg.shape[3]\n",
        "\n",
        "    filtered_data = ssvep_utils.get_filtered_eeg(eeg, 6, 80, 4, sample_rate)\n",
        "    all_segment_data[f's{subject+1}'] = ssvep_utils.get_segmented_epochs(filtered_data, window_len, shift_len, sample_rate)"
      ],
      "execution_count": null,
      "outputs": []
    },
    {
      "cell_type": "code",
      "metadata": {
        "colab": {
          "base_uri": "https://localhost:8080/"
        },
        "id": "NdR5VQIfnzfI",
        "outputId": "8296601e-6d15-4c17-b09a-f24aaeed6830"
      },
      "source": [
        "print(all_segment_data['s10'].shape)"
      ],
      "execution_count": null,
      "outputs": [
        {
          "output_type": "stream",
          "name": "stdout",
          "text": [
            "(12, 8, 15, 4, 256)\n"
          ]
        }
      ]
    },
    {
      "cell_type": "markdown",
      "metadata": {
        "id": "Nx8kufVjnhD2"
      },
      "source": [
        "Generate Reference Signals"
      ]
    },
    {
      "cell_type": "code",
      "metadata": {
        "id": "u66zY3_jnrYC"
      },
      "source": [
        "reference_templates = []\n",
        "for fr in range(0, len(flicker_freq)):\n",
        "    reference_templates.append(get_reference_signals(duration, flicker_freq[fr], sample_rate))\n",
        "reference_templates = np.array(reference_templates, dtype='float32')"
      ],
      "execution_count": null,
      "outputs": []
    },
    {
      "cell_type": "code",
      "metadata": {
        "colab": {
          "base_uri": "https://localhost:8080/"
        },
        "id": "Sn83QpcvD3o0",
        "outputId": "dc207a34-0576-44c0-d09e-927ef2ecd76d"
      },
      "source": [
        "print(reference_templates.shape)"
      ],
      "execution_count": null,
      "outputs": [
        {
          "output_type": "stream",
          "name": "stdout",
          "text": [
            "(12, 4, 256)\n"
          ]
        }
      ]
    },
    {
      "cell_type": "markdown",
      "metadata": {
        "id": "UmlModN3qwSH"
      },
      "source": [
        "Perform CCA on Segments"
      ]
    },
    {
      "cell_type": "code",
      "metadata": {
        "id": "wD3T8S_Iq1Mo"
      },
      "source": [
        "# for subject in all_segment_data.keys():\n",
        "#     labels, predicted_class = cca_classify(all_segment_data[subject], reference_templates)\n",
        "#     c_mat = confusion_matrix(labels, predicted_class)\n",
        "#     accuracy = np.divide(np.trace(c_mat), np.sum(np.sum(c_mat)))\n",
        "#     all_acc.append(accuracy)\n",
        "#     print(f'Subject: {subject}, Accuracy: {accuracy*100} %')"
      ],
      "execution_count": null,
      "outputs": []
    },
    {
      "cell_type": "code",
      "metadata": {
        "id": "NMrmngVWWoVH"
      },
      "source": [
        "import itertools\n",
        "import numpy as np\n",
        "import matplotlib.pyplot as plt\n",
        "\n",
        "def plot_confusion_matrix(cm, classes, normalize=False, title='Confusion matrix', cmap=plt.cm.Blues):\n",
        "    if normalize:\n",
        "        cm = cm.astype('float') / cm.sum(axis=1)[:, np.newaxis]\n",
        "        print(\"Normalized confusion matrix\")\n",
        "    else:\n",
        "        print('Confusion matrix, without normalization')\n",
        "\n",
        "    # print(cm)\n",
        "    plt.imshow(cm, interpolation='nearest', cmap=cmap)\n",
        "    plt.title(title)\n",
        "    plt.colorbar()\n",
        "    tick_marks = np.arange(len(classes))\n",
        "    plt.xticks(tick_marks, classes, rotation=45)\n",
        "    plt.yticks(tick_marks, classes)\n",
        "\n",
        "    fmt = '.2f' if normalize else 'd'\n",
        "    thresh = cm.max() / 2.\n",
        "    for i, j in itertools.product(range(cm.shape[0]), range(cm.shape[1])):\n",
        "        plt.text(j, i, format(cm[i, j], fmt), horizontalalignment=\"center\", color=\"white\" if cm[i, j] > thresh else \"black\")\n",
        "\n",
        "    plt.tight_layout()\n",
        "    plt.ylabel('True label')\n",
        "    plt.xlabel('Predicted label')"
      ],
      "execution_count": null,
      "outputs": []
    },
    {
      "cell_type": "code",
      "metadata": {
        "colab": {
          "base_uri": "https://localhost:8080/",
          "height": 370
        },
        "id": "_gkPq_zUFnou",
        "outputId": "f7ae9c64-e37f-4677-fb98-1025c13f1970"
      },
      "source": [
        "from sklearn.model_selection import train_test_split\n",
        "from sklearn import neighbors\n",
        "for v in range(1, 11):\n",
        "  labels, predicted_class, all_coeffs = cca_classify(all_segment_data[f's{v}'], reference_templates)\n",
        "  train_data, test_data, train_label, test_labels = train_test_split(all_coeffs, labels, random_state = 42)\n",
        "  clf = neighbors.KNeighborsClassifier(15, weights='uniform')\n",
        "  clf.fit(train_data, train_label)\n",
        "  predictions = clf.predict(test_data)\n",
        "  conf_matrix = confusion_matrix(predictions, test_labels)\n",
        "  print(conf_matrix)\n",
        "  plot_confusion_matrix(conf_matrix, [str(flicker_freq.tolist()[i - 1]) for i in list(set(test_labels))])\n",
        "  plt.show()\n",
        "  print(f's{v}: {clf.score(test_data, test_labels)}')\n",
        "# precision and recall, f1-score"
      ],
      "execution_count": null,
      "outputs": [
        {
          "output_type": "error",
          "ename": "AttributeError",
          "evalue": "ignored",
          "traceback": [
            "\u001b[0;31m---------------------------------------------------------------------------\u001b[0m",
            "\u001b[0;31mAttributeError\u001b[0m                            Traceback (most recent call last)",
            "\u001b[0;32m<ipython-input-32-0f35f2a1d241>\u001b[0m in \u001b[0;36m<module>\u001b[0;34m()\u001b[0m\n\u001b[1;32m      2\u001b[0m \u001b[0;32mfrom\u001b[0m \u001b[0msklearn\u001b[0m \u001b[0;32mimport\u001b[0m \u001b[0mneighbors\u001b[0m\u001b[0;34m\u001b[0m\u001b[0;34m\u001b[0m\u001b[0m\n\u001b[1;32m      3\u001b[0m \u001b[0;32mfor\u001b[0m \u001b[0mv\u001b[0m \u001b[0;32min\u001b[0m \u001b[0mrange\u001b[0m\u001b[0;34m(\u001b[0m\u001b[0;36m1\u001b[0m\u001b[0;34m,\u001b[0m \u001b[0;36m11\u001b[0m\u001b[0;34m)\u001b[0m\u001b[0;34m:\u001b[0m\u001b[0;34m\u001b[0m\u001b[0;34m\u001b[0m\u001b[0m\n\u001b[0;32m----> 4\u001b[0;31m   \u001b[0mlabels\u001b[0m\u001b[0;34m,\u001b[0m \u001b[0mpredicted_class\u001b[0m\u001b[0;34m,\u001b[0m \u001b[0mall_coeffs\u001b[0m \u001b[0;34m=\u001b[0m \u001b[0mcca_classify\u001b[0m\u001b[0;34m(\u001b[0m\u001b[0mall_segment_data\u001b[0m\u001b[0;34m[\u001b[0m\u001b[0;34mf's{v}'\u001b[0m\u001b[0;34m]\u001b[0m\u001b[0;34m,\u001b[0m \u001b[0mreference_templates\u001b[0m\u001b[0;34m)\u001b[0m\u001b[0;34m\u001b[0m\u001b[0;34m\u001b[0m\u001b[0m\n\u001b[0m\u001b[1;32m      5\u001b[0m   \u001b[0mtrain_data\u001b[0m\u001b[0;34m,\u001b[0m \u001b[0mtest_data\u001b[0m\u001b[0;34m,\u001b[0m \u001b[0mtrain_label\u001b[0m\u001b[0;34m,\u001b[0m \u001b[0mtest_labels\u001b[0m \u001b[0;34m=\u001b[0m \u001b[0mtrain_test_split\u001b[0m\u001b[0;34m(\u001b[0m\u001b[0mall_coeffs\u001b[0m\u001b[0;34m,\u001b[0m \u001b[0mlabels\u001b[0m\u001b[0;34m,\u001b[0m \u001b[0mrandom_state\u001b[0m \u001b[0;34m=\u001b[0m \u001b[0;36m42\u001b[0m\u001b[0;34m)\u001b[0m\u001b[0;34m\u001b[0m\u001b[0;34m\u001b[0m\u001b[0m\n\u001b[1;32m      6\u001b[0m   \u001b[0mclf\u001b[0m \u001b[0;34m=\u001b[0m \u001b[0mneighbors\u001b[0m\u001b[0;34m.\u001b[0m\u001b[0mKNeighborsClassifier\u001b[0m\u001b[0;34m(\u001b[0m\u001b[0;36m15\u001b[0m\u001b[0;34m,\u001b[0m \u001b[0mweights\u001b[0m\u001b[0;34m=\u001b[0m\u001b[0;34m'uniform'\u001b[0m\u001b[0;34m)\u001b[0m\u001b[0;34m\u001b[0m\u001b[0;34m\u001b[0m\u001b[0m\n",
            "\u001b[0;32m<ipython-input-20-cb7bf85c6a8a>\u001b[0m in \u001b[0;36mcca_classify\u001b[0;34m(segmented_data, reference_templates)\u001b[0m\n\u001b[1;32m      7\u001b[0m             \u001b[0;32mfor\u001b[0m \u001b[0msegment\u001b[0m \u001b[0;32min\u001b[0m \u001b[0mrange\u001b[0m\u001b[0;34m(\u001b[0m\u001b[0;36m0\u001b[0m\u001b[0;34m,\u001b[0m \u001b[0msegmented_data\u001b[0m\u001b[0;34m.\u001b[0m\u001b[0mshape\u001b[0m\u001b[0;34m[\u001b[0m\u001b[0;36m3\u001b[0m\u001b[0;34m]\u001b[0m\u001b[0;34m)\u001b[0m\u001b[0;34m:\u001b[0m\u001b[0;34m\u001b[0m\u001b[0;34m\u001b[0m\u001b[0m\n\u001b[1;32m      8\u001b[0m                 \u001b[0mlabels\u001b[0m\u001b[0;34m.\u001b[0m\u001b[0mappend\u001b[0m\u001b[0;34m(\u001b[0m\u001b[0mtarget\u001b[0m\u001b[0;34m)\u001b[0m\u001b[0;34m\u001b[0m\u001b[0;34m\u001b[0m\u001b[0m\n\u001b[0;32m----> 9\u001b[0;31m                 \u001b[0mresult\u001b[0m \u001b[0;34m=\u001b[0m \u001b[0mcalculate_correlation\u001b[0m\u001b[0;34m(\u001b[0m\u001b[0;36m1\u001b[0m\u001b[0;34m,\u001b[0m \u001b[0msegmented_data\u001b[0m\u001b[0;34m[\u001b[0m\u001b[0mtarget\u001b[0m\u001b[0;34m,\u001b[0m \u001b[0;34m:\u001b[0m\u001b[0;34m,\u001b[0m \u001b[0mtrial\u001b[0m\u001b[0;34m,\u001b[0m \u001b[0msegment\u001b[0m\u001b[0;34m,\u001b[0m \u001b[0;34m:\u001b[0m\u001b[0;34m]\u001b[0m\u001b[0;34m,\u001b[0m \u001b[0mreference_templates\u001b[0m\u001b[0;34m)\u001b[0m\u001b[0;34m\u001b[0m\u001b[0;34m\u001b[0m\u001b[0m\n\u001b[0m\u001b[1;32m     10\u001b[0m                 \u001b[0;31m# print(result.shape)\u001b[0m\u001b[0;34m\u001b[0m\u001b[0;34m\u001b[0m\u001b[0;34m\u001b[0m\u001b[0m\n\u001b[1;32m     11\u001b[0m                 \u001b[0mall_coeffs\u001b[0m\u001b[0;34m.\u001b[0m\u001b[0mappend\u001b[0m\u001b[0;34m(\u001b[0m\u001b[0mresult\u001b[0m\u001b[0;34m)\u001b[0m\u001b[0;34m\u001b[0m\u001b[0;34m\u001b[0m\u001b[0m\n",
            "\u001b[0;32m<ipython-input-19-98155d4c7ae0>\u001b[0m in \u001b[0;36mcalculate_correlation\u001b[0;34m(n_components, np_buffer, freq)\u001b[0m\n\u001b[1;32m      2\u001b[0m     \u001b[0mcca\u001b[0m \u001b[0;34m=\u001b[0m \u001b[0mCCA\u001b[0m\u001b[0;34m(\u001b[0m\u001b[0mn_components\u001b[0m\u001b[0;34m)\u001b[0m\u001b[0;34m\u001b[0m\u001b[0;34m\u001b[0m\u001b[0m\n\u001b[1;32m      3\u001b[0m     \u001b[0mcorr\u001b[0m \u001b[0;34m=\u001b[0m \u001b[0mnp\u001b[0m\u001b[0;34m.\u001b[0m\u001b[0mzeros\u001b[0m\u001b[0;34m(\u001b[0m\u001b[0mn_components\u001b[0m\u001b[0;34m)\u001b[0m\u001b[0;34m\u001b[0m\u001b[0;34m\u001b[0m\u001b[0m\n\u001b[0;32m----> 4\u001b[0;31m     \u001b[0mresult\u001b[0m \u001b[0;34m=\u001b[0m \u001b[0mnp\u001b[0m\u001b[0;34m.\u001b[0m\u001b[0mzeros\u001b[0m\u001b[0;34m(\u001b[0m\u001b[0mfreq\u001b[0m\u001b[0;34m.\u001b[0m\u001b[0mshape\u001b[0m\u001b[0;34m[\u001b[0m\u001b[0;36m0\u001b[0m\u001b[0;34m]\u001b[0m\u001b[0;34m)\u001b[0m\u001b[0;34m\u001b[0m\u001b[0;34m\u001b[0m\u001b[0m\n\u001b[0m\u001b[1;32m      5\u001b[0m     \u001b[0;32mfor\u001b[0m \u001b[0mfreq_idx\u001b[0m \u001b[0;32min\u001b[0m \u001b[0mrange\u001b[0m\u001b[0;34m(\u001b[0m\u001b[0;36m0\u001b[0m\u001b[0;34m,\u001b[0m\u001b[0mfreq\u001b[0m\u001b[0;34m.\u001b[0m\u001b[0mshape\u001b[0m\u001b[0;34m[\u001b[0m\u001b[0;36m0\u001b[0m\u001b[0;34m]\u001b[0m\u001b[0;34m)\u001b[0m\u001b[0;34m:\u001b[0m\u001b[0;34m\u001b[0m\u001b[0;34m\u001b[0m\u001b[0m\n\u001b[1;32m      6\u001b[0m         \u001b[0mcca\u001b[0m\u001b[0;34m.\u001b[0m\u001b[0mfit\u001b[0m\u001b[0;34m(\u001b[0m\u001b[0mnp_buffer\u001b[0m\u001b[0;34m.\u001b[0m\u001b[0mT\u001b[0m\u001b[0;34m,\u001b[0m\u001b[0mnp\u001b[0m\u001b[0;34m.\u001b[0m\u001b[0msqueeze\u001b[0m\u001b[0;34m(\u001b[0m\u001b[0mfreq\u001b[0m\u001b[0;34m[\u001b[0m\u001b[0mfreq_idx\u001b[0m\u001b[0;34m,\u001b[0m \u001b[0;34m:\u001b[0m\u001b[0;34m,\u001b[0m \u001b[0;34m:\u001b[0m\u001b[0;34m]\u001b[0m\u001b[0;34m)\u001b[0m\u001b[0;34m.\u001b[0m\u001b[0mT\u001b[0m\u001b[0;34m)\u001b[0m\u001b[0;34m\u001b[0m\u001b[0;34m\u001b[0m\u001b[0m\n",
            "\u001b[0;31mAttributeError\u001b[0m: 'list' object has no attribute 'shape'"
          ]
        }
      ]
    },
    {
      "cell_type": "code",
      "metadata": {
        "colab": {
          "base_uri": "https://localhost:8080/",
          "height": 370
        },
        "id": "0wRBndqXtU6E",
        "outputId": "a501df9d-e5a5-4088-8f8c-d2116f6d9361"
      },
      "source": [
        "from sklearn.model_selection import train_test_split\n",
        "from sklearn import neighbors\n",
        "\n",
        "from sklearn.metrics import PrecisionRecallDisplay\n",
        "\n",
        "for v in range(1, 11):\n",
        "  labels, predicted_class, all_coeffs = cca_classify(all_segment_data[f's{v}'], reference_templates)\n",
        "  train_data, test_data, train_label, test_labels = train_test_split(all_coeffs, labels, random_state = 42)\n",
        "\n",
        "  clf = neighbors.KNeighborsClassifier(15, weights='uniform')\n",
        "  clf.fit(train_data, train_label)\n",
        "  predictions = clf.predict(test_data)\n",
        "  print(predictions)\n",
        "  print(test_labels)\n",
        "\n",
        "  display = PrecisionRecallDisplay.from_predictions(test_labels, predictions, name=\"LinearSVC\")\n",
        "  _ = display.ax_.set_title(\"2-class Precision-Recall curve\")\n",
        "\n",
        "  print(f's{v}: {clf.score(test_data, test_labels)}')\n",
        "  \n",
        "# precision and recall, f1-score"
      ],
      "execution_count": null,
      "outputs": [
        {
          "output_type": "error",
          "ename": "AttributeError",
          "evalue": "ignored",
          "traceback": [
            "\u001b[0;31m---------------------------------------------------------------------------\u001b[0m",
            "\u001b[0;31mAttributeError\u001b[0m                            Traceback (most recent call last)",
            "\u001b[0;32m<ipython-input-28-560049becc08>\u001b[0m in \u001b[0;36m<module>\u001b[0;34m()\u001b[0m\n\u001b[1;32m      5\u001b[0m \u001b[0;34m\u001b[0m\u001b[0m\n\u001b[1;32m      6\u001b[0m \u001b[0;32mfor\u001b[0m \u001b[0mv\u001b[0m \u001b[0;32min\u001b[0m \u001b[0mrange\u001b[0m\u001b[0;34m(\u001b[0m\u001b[0;36m1\u001b[0m\u001b[0;34m,\u001b[0m \u001b[0;36m11\u001b[0m\u001b[0;34m)\u001b[0m\u001b[0;34m:\u001b[0m\u001b[0;34m\u001b[0m\u001b[0;34m\u001b[0m\u001b[0m\n\u001b[0;32m----> 7\u001b[0;31m   \u001b[0mlabels\u001b[0m\u001b[0;34m,\u001b[0m \u001b[0mpredicted_class\u001b[0m\u001b[0;34m,\u001b[0m \u001b[0mall_coeffs\u001b[0m \u001b[0;34m=\u001b[0m \u001b[0mcca_classify\u001b[0m\u001b[0;34m(\u001b[0m\u001b[0mall_segment_data\u001b[0m\u001b[0;34m[\u001b[0m\u001b[0;34mf's{v}'\u001b[0m\u001b[0;34m]\u001b[0m\u001b[0;34m,\u001b[0m \u001b[0mreference_templates\u001b[0m\u001b[0;34m)\u001b[0m\u001b[0;34m\u001b[0m\u001b[0;34m\u001b[0m\u001b[0m\n\u001b[0m\u001b[1;32m      8\u001b[0m   \u001b[0mtrain_data\u001b[0m\u001b[0;34m,\u001b[0m \u001b[0mtest_data\u001b[0m\u001b[0;34m,\u001b[0m \u001b[0mtrain_label\u001b[0m\u001b[0;34m,\u001b[0m \u001b[0mtest_labels\u001b[0m \u001b[0;34m=\u001b[0m \u001b[0mtrain_test_split\u001b[0m\u001b[0;34m(\u001b[0m\u001b[0mall_coeffs\u001b[0m\u001b[0;34m,\u001b[0m \u001b[0mlabels\u001b[0m\u001b[0;34m,\u001b[0m \u001b[0mrandom_state\u001b[0m \u001b[0;34m=\u001b[0m \u001b[0;36m42\u001b[0m\u001b[0;34m)\u001b[0m\u001b[0;34m\u001b[0m\u001b[0;34m\u001b[0m\u001b[0m\n\u001b[1;32m      9\u001b[0m \u001b[0;34m\u001b[0m\u001b[0m\n",
            "\u001b[0;32m<ipython-input-20-cb7bf85c6a8a>\u001b[0m in \u001b[0;36mcca_classify\u001b[0;34m(segmented_data, reference_templates)\u001b[0m\n\u001b[1;32m      7\u001b[0m             \u001b[0;32mfor\u001b[0m \u001b[0msegment\u001b[0m \u001b[0;32min\u001b[0m \u001b[0mrange\u001b[0m\u001b[0;34m(\u001b[0m\u001b[0;36m0\u001b[0m\u001b[0;34m,\u001b[0m \u001b[0msegmented_data\u001b[0m\u001b[0;34m.\u001b[0m\u001b[0mshape\u001b[0m\u001b[0;34m[\u001b[0m\u001b[0;36m3\u001b[0m\u001b[0;34m]\u001b[0m\u001b[0;34m)\u001b[0m\u001b[0;34m:\u001b[0m\u001b[0;34m\u001b[0m\u001b[0;34m\u001b[0m\u001b[0m\n\u001b[1;32m      8\u001b[0m                 \u001b[0mlabels\u001b[0m\u001b[0;34m.\u001b[0m\u001b[0mappend\u001b[0m\u001b[0;34m(\u001b[0m\u001b[0mtarget\u001b[0m\u001b[0;34m)\u001b[0m\u001b[0;34m\u001b[0m\u001b[0;34m\u001b[0m\u001b[0m\n\u001b[0;32m----> 9\u001b[0;31m                 \u001b[0mresult\u001b[0m \u001b[0;34m=\u001b[0m \u001b[0mcalculate_correlation\u001b[0m\u001b[0;34m(\u001b[0m\u001b[0;36m1\u001b[0m\u001b[0;34m,\u001b[0m \u001b[0msegmented_data\u001b[0m\u001b[0;34m[\u001b[0m\u001b[0mtarget\u001b[0m\u001b[0;34m,\u001b[0m \u001b[0;34m:\u001b[0m\u001b[0;34m,\u001b[0m \u001b[0mtrial\u001b[0m\u001b[0;34m,\u001b[0m \u001b[0msegment\u001b[0m\u001b[0;34m,\u001b[0m \u001b[0;34m:\u001b[0m\u001b[0;34m]\u001b[0m\u001b[0;34m,\u001b[0m \u001b[0mreference_templates\u001b[0m\u001b[0;34m)\u001b[0m\u001b[0;34m\u001b[0m\u001b[0;34m\u001b[0m\u001b[0m\n\u001b[0m\u001b[1;32m     10\u001b[0m                 \u001b[0;31m# print(result.shape)\u001b[0m\u001b[0;34m\u001b[0m\u001b[0;34m\u001b[0m\u001b[0;34m\u001b[0m\u001b[0m\n\u001b[1;32m     11\u001b[0m                 \u001b[0mall_coeffs\u001b[0m\u001b[0;34m.\u001b[0m\u001b[0mappend\u001b[0m\u001b[0;34m(\u001b[0m\u001b[0mresult\u001b[0m\u001b[0;34m)\u001b[0m\u001b[0;34m\u001b[0m\u001b[0;34m\u001b[0m\u001b[0m\n",
            "\u001b[0;32m<ipython-input-19-98155d4c7ae0>\u001b[0m in \u001b[0;36mcalculate_correlation\u001b[0;34m(n_components, np_buffer, freq)\u001b[0m\n\u001b[1;32m      2\u001b[0m     \u001b[0mcca\u001b[0m \u001b[0;34m=\u001b[0m \u001b[0mCCA\u001b[0m\u001b[0;34m(\u001b[0m\u001b[0mn_components\u001b[0m\u001b[0;34m)\u001b[0m\u001b[0;34m\u001b[0m\u001b[0;34m\u001b[0m\u001b[0m\n\u001b[1;32m      3\u001b[0m     \u001b[0mcorr\u001b[0m \u001b[0;34m=\u001b[0m \u001b[0mnp\u001b[0m\u001b[0;34m.\u001b[0m\u001b[0mzeros\u001b[0m\u001b[0;34m(\u001b[0m\u001b[0mn_components\u001b[0m\u001b[0;34m)\u001b[0m\u001b[0;34m\u001b[0m\u001b[0;34m\u001b[0m\u001b[0m\n\u001b[0;32m----> 4\u001b[0;31m     \u001b[0mresult\u001b[0m \u001b[0;34m=\u001b[0m \u001b[0mnp\u001b[0m\u001b[0;34m.\u001b[0m\u001b[0mzeros\u001b[0m\u001b[0;34m(\u001b[0m\u001b[0mfreq\u001b[0m\u001b[0;34m.\u001b[0m\u001b[0mshape\u001b[0m\u001b[0;34m[\u001b[0m\u001b[0;36m0\u001b[0m\u001b[0;34m]\u001b[0m\u001b[0;34m)\u001b[0m\u001b[0;34m\u001b[0m\u001b[0;34m\u001b[0m\u001b[0m\n\u001b[0m\u001b[1;32m      5\u001b[0m     \u001b[0;32mfor\u001b[0m \u001b[0mfreq_idx\u001b[0m \u001b[0;32min\u001b[0m \u001b[0mrange\u001b[0m\u001b[0;34m(\u001b[0m\u001b[0;36m0\u001b[0m\u001b[0;34m,\u001b[0m\u001b[0mfreq\u001b[0m\u001b[0;34m.\u001b[0m\u001b[0mshape\u001b[0m\u001b[0;34m[\u001b[0m\u001b[0;36m0\u001b[0m\u001b[0;34m]\u001b[0m\u001b[0;34m)\u001b[0m\u001b[0;34m:\u001b[0m\u001b[0;34m\u001b[0m\u001b[0;34m\u001b[0m\u001b[0m\n\u001b[1;32m      6\u001b[0m         \u001b[0mcca\u001b[0m\u001b[0;34m.\u001b[0m\u001b[0mfit\u001b[0m\u001b[0;34m(\u001b[0m\u001b[0mnp_buffer\u001b[0m\u001b[0;34m.\u001b[0m\u001b[0mT\u001b[0m\u001b[0;34m,\u001b[0m\u001b[0mnp\u001b[0m\u001b[0;34m.\u001b[0m\u001b[0msqueeze\u001b[0m\u001b[0;34m(\u001b[0m\u001b[0mfreq\u001b[0m\u001b[0;34m[\u001b[0m\u001b[0mfreq_idx\u001b[0m\u001b[0;34m,\u001b[0m \u001b[0;34m:\u001b[0m\u001b[0;34m,\u001b[0m \u001b[0;34m:\u001b[0m\u001b[0;34m]\u001b[0m\u001b[0;34m)\u001b[0m\u001b[0;34m.\u001b[0m\u001b[0mT\u001b[0m\u001b[0;34m)\u001b[0m\u001b[0;34m\u001b[0m\u001b[0;34m\u001b[0m\u001b[0m\n",
            "\u001b[0;31mAttributeError\u001b[0m: 'list' object has no attribute 'shape'"
          ]
        }
      ]
    }
  ]
}